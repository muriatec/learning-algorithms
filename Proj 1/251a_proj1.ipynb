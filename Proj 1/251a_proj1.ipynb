{
 "cells": [
  {
   "cell_type": "code",
   "execution_count": 36,
   "metadata": {
    "id": "xoIZYjeIfZhI"
   },
   "outputs": [],
   "source": [
    "import torch\n",
    "import torchvision\n",
    "import torchvision.datasets as datasets\n",
    "from torchvision.transforms import ToTensor\n",
    "import numpy as np\n",
    "import matplotlib.pyplot as plt\n",
    "from sklearn.neighbors import KNeighborsClassifier\n",
    "from sklearn.cluster import KMeans\n",
    "from sklearn.metrics import pairwise_distances_argmin_min\n",
    "from collections import defaultdict\n",
    "import random\n",
    "import time\n",
    "from scipy.stats import t\n",
    "import math"
   ]
  },
  {
   "cell_type": "code",
   "execution_count": 2,
   "metadata": {
    "id": "tKr-t8REgN7s"
   },
   "outputs": [],
   "source": [
    "# Data preprocessing\n",
    "trainset = datasets.MNIST(root='./data', train=True, download=True, transform=ToTensor())\n",
    "testset = datasets.MNIST(root='./data', train=False, download=True, transform=ToTensor())\n",
    "train_data = trainset.data\n",
    "train_labels = trainset.targets\n",
    "train_data = train_data.view([len(train_data), 28*28])\n",
    "train_data = train_data / 255.0\n",
    "test_data = testset.data\n",
    "test_labels = testset.targets\n",
    "test_data = testset.data.view([len(test_data), 28*28])\n",
    "test_data = test_data / 255.0\n",
    "train_data = np.array(train_data)\n",
    "train_labels = np.array(train_labels)\n",
    "test_data = np.array(test_data)\n",
    "test_labels = np.array(test_labels)"
   ]
  },
  {
   "cell_type": "code",
   "execution_count": 3,
   "metadata": {
    "id": "liOaRRP8dVRE"
   },
   "outputs": [],
   "source": [
    "def kNNclassifier(xTrain, yTrain, xTest=test_data, yTest=test_labels):\n",
    "  model = KNeighborsClassifier(n_neighbors=1)\n",
    "  model.fit(xTrain, yTrain)\n",
    "  accuracy = model.score(xTest, yTest)\n",
    "\n",
    "  return accuracy"
   ]
  },
  {
   "cell_type": "code",
   "execution_count": 4,
   "metadata": {
    "id": "0D6I7E0OtuAM"
   },
   "outputs": [],
   "source": [
    "def baselineMethod(xTrain, yTrain, M):\n",
    "  indices = np.random.randint(0, xTrain.shape[0], size=M)\n",
    "\n",
    "  return indices"
   ]
  },
  {
   "cell_type": "code",
   "execution_count": 5,
   "metadata": {
    "id": "tNQgFuW0cdeh"
   },
   "outputs": [],
   "source": [
    "def kMeansPrototype(xTrain, yTrain, M):\n",
    "  indices = []\n",
    "  classes = np.unique(yTrain)\n",
    "  num_clusters = int(M / len(classes))\n",
    "  x_indices = defaultdict(list)\n",
    "  for index in range(len(yTrain)):\n",
    "    x_indices[yTrain[index]].append(index)\n",
    "  for label in x_indices.keys():\n",
    "    centroids = KMeans(n_clusters=num_clusters).fit(xTrain[x_indices[label]]).cluster_centers_\n",
    "    prototype_indices, _ = pairwise_distances_argmin_min(centroids, xTrain[x_indices[label]])\n",
    "    for i in range(num_clusters):\n",
    "      prototype_indices[i] = x_indices[label][prototype_indices[i]]\n",
    "    indices.append(prototype_indices)\n",
    "  indices = np.concatenate(indices).ravel()\n",
    "\n",
    "  return indices"
   ]
  },
  {
   "cell_type": "code",
   "execution_count": 6,
   "metadata": {
    "id": "RaHbdKZ7OkfI"
   },
   "outputs": [],
   "source": [
    "def EditedNN(xTrain, yTrain, M):\n",
    "  indices = []\n",
    "  x_index = np.random.permutation(len(yTrain))\n",
    "  for index in x_index:\n",
    "    if len(indices) >= M:\n",
    "      return indices\n",
    "    dist = np.linalg.norm(xTrain - xTrain[index], ord=2, axis=1)\n",
    "    nn = np.argsort(dist, axis=0)[1]\n",
    "    if yTrain[nn] == yTrain[index]:\n",
    "      indices.append(index)\n",
    "\n",
    "  return indices"
   ]
  },
  {
   "cell_type": "code",
   "execution_count": 7,
   "metadata": {
    "id": "DIqgB6QfMCrQ"
   },
   "outputs": [],
   "source": [
    "def CNN(xTrain, yTrain, M):\n",
    "  indices = []\n",
    "  grabbag = []\n",
    "  x_index = np.random.permutation(len(yTrain))\n",
    "  indices.append(x_index[0])\n",
    "  for index in range(1, len(x_index)):\n",
    "    if len(indices) >= M:\n",
    "      return indices\n",
    "    dist = np.linalg.norm(xTrain[indices] - xTrain[index], ord=2, axis=1)\n",
    "    nn = np.argsort(dist, axis=0)[0]\n",
    "    if yTrain[nn] != yTrain[index]:\n",
    "      indices.append(index)\n",
    "    else:\n",
    "      grabbag.append(index)\n",
    "\n",
    "  for index in grabbag:\n",
    "    if len(indices) >= M:\n",
    "      return indices\n",
    "    dist = np.linalg.norm(xTrain[indices] - xTrain[index], ord=2, axis=1)\n",
    "    nn = np.argsort(dist, axis=0)[0]\n",
    "    if yTrain[nn] != yTrain[index]:\n",
    "      indices.append(index)\n",
    "\n",
    "  return indices"
   ]
  },
  {
   "cell_type": "code",
   "execution_count": 8,
   "metadata": {
    "id": "67v_xZ2eKFpE"
   },
   "outputs": [],
   "source": [
    "def run():\n",
    "  iters = 5\n",
    "  subset_size = [500, 1000, 2000, 5000, 10000]\n",
    "  models = ['baseline', 'kmeans', 'enn', 'cnn']\n",
    "  err = np.zeros((5, 4, 5))\n",
    "  runtime = np.zeros((5, 4, 5))\n",
    "  for M_index, M in enumerate(subset_size):\n",
    "    for model_index, model in enumerate(models):\n",
    "      if model == 'kmeans':\n",
    "        start = time.time()\n",
    "        proto_indices = kMeansPrototype(train_data, train_labels, M)\n",
    "        end = time.time()\n",
    "        runtime[M_index][model_index][:] = end - start\n",
    "        acc = kNNclassifier(train_data[proto_indices], train_labels[proto_indices])\n",
    "        err[M_index][model_index][:] = 1 - acc\n",
    "      else:\n",
    "        for iter in range(iters):\n",
    "          start = time.time()\n",
    "          if model == 'baseline':\n",
    "            proto_indices = baselineMethod(train_data, train_labels, M)\n",
    "          elif model == 'enn':\n",
    "            proto_indices = EditedNN(train_data, train_labels, M)\n",
    "          elif model == 'cnn':\n",
    "            proto_indices = CNN(train_data, train_labels, M)\n",
    "          end = time.time()\n",
    "          runtime[M_index][model_index][iter] = end - start\n",
    "          acc = kNNclassifier(train_data[proto_indices], train_labels[proto_indices])\n",
    "          err[M_index][model_index][iter] = 1 - acc\n",
    "  np.save('error.npy', err)\n",
    "  np.save('runtime.npy', runtime)\n",
    "  return err, runtime"
   ]
  },
  {
   "cell_type": "code",
   "execution_count": 9,
   "metadata": {
    "colab": {
     "base_uri": "https://localhost:8080/",
     "height": 537
    },
    "id": "MFSgP0U8kii1",
    "outputId": "80679a76-8a50-4859-9993-a265a49521d4"
   },
   "outputs": [
    {
     "name": "stderr",
     "output_type": "stream",
     "text": [
      "C:\\Users\\Muriate_C\\anaconda3\\lib\\site-packages\\sklearn\\cluster\\_kmeans.py:1416: FutureWarning: The default value of `n_init` will change from 10 to 'auto' in 1.4. Set the value of `n_init` explicitly to suppress the warning\n",
      "  super()._check_params_vs_input(X, default_n_init=10)\n",
      "C:\\Users\\Muriate_C\\anaconda3\\lib\\site-packages\\sklearn\\cluster\\_kmeans.py:1416: FutureWarning: The default value of `n_init` will change from 10 to 'auto' in 1.4. Set the value of `n_init` explicitly to suppress the warning\n",
      "  super()._check_params_vs_input(X, default_n_init=10)\n",
      "C:\\Users\\Muriate_C\\anaconda3\\lib\\site-packages\\sklearn\\cluster\\_kmeans.py:1416: FutureWarning: The default value of `n_init` will change from 10 to 'auto' in 1.4. Set the value of `n_init` explicitly to suppress the warning\n",
      "  super()._check_params_vs_input(X, default_n_init=10)\n",
      "C:\\Users\\Muriate_C\\anaconda3\\lib\\site-packages\\sklearn\\cluster\\_kmeans.py:1416: FutureWarning: The default value of `n_init` will change from 10 to 'auto' in 1.4. Set the value of `n_init` explicitly to suppress the warning\n",
      "  super()._check_params_vs_input(X, default_n_init=10)\n",
      "C:\\Users\\Muriate_C\\anaconda3\\lib\\site-packages\\sklearn\\cluster\\_kmeans.py:1416: FutureWarning: The default value of `n_init` will change from 10 to 'auto' in 1.4. Set the value of `n_init` explicitly to suppress the warning\n",
      "  super()._check_params_vs_input(X, default_n_init=10)\n",
      "C:\\Users\\Muriate_C\\anaconda3\\lib\\site-packages\\sklearn\\cluster\\_kmeans.py:1416: FutureWarning: The default value of `n_init` will change from 10 to 'auto' in 1.4. Set the value of `n_init` explicitly to suppress the warning\n",
      "  super()._check_params_vs_input(X, default_n_init=10)\n",
      "C:\\Users\\Muriate_C\\anaconda3\\lib\\site-packages\\sklearn\\cluster\\_kmeans.py:1416: FutureWarning: The default value of `n_init` will change from 10 to 'auto' in 1.4. Set the value of `n_init` explicitly to suppress the warning\n",
      "  super()._check_params_vs_input(X, default_n_init=10)\n",
      "C:\\Users\\Muriate_C\\anaconda3\\lib\\site-packages\\sklearn\\cluster\\_kmeans.py:1416: FutureWarning: The default value of `n_init` will change from 10 to 'auto' in 1.4. Set the value of `n_init` explicitly to suppress the warning\n",
      "  super()._check_params_vs_input(X, default_n_init=10)\n",
      "C:\\Users\\Muriate_C\\anaconda3\\lib\\site-packages\\sklearn\\cluster\\_kmeans.py:1416: FutureWarning: The default value of `n_init` will change from 10 to 'auto' in 1.4. Set the value of `n_init` explicitly to suppress the warning\n",
      "  super()._check_params_vs_input(X, default_n_init=10)\n",
      "C:\\Users\\Muriate_C\\anaconda3\\lib\\site-packages\\sklearn\\cluster\\_kmeans.py:1416: FutureWarning: The default value of `n_init` will change from 10 to 'auto' in 1.4. Set the value of `n_init` explicitly to suppress the warning\n",
      "  super()._check_params_vs_input(X, default_n_init=10)\n",
      "C:\\Users\\Muriate_C\\anaconda3\\lib\\site-packages\\sklearn\\cluster\\_kmeans.py:1416: FutureWarning: The default value of `n_init` will change from 10 to 'auto' in 1.4. Set the value of `n_init` explicitly to suppress the warning\n",
      "  super()._check_params_vs_input(X, default_n_init=10)\n",
      "C:\\Users\\Muriate_C\\anaconda3\\lib\\site-packages\\sklearn\\cluster\\_kmeans.py:1416: FutureWarning: The default value of `n_init` will change from 10 to 'auto' in 1.4. Set the value of `n_init` explicitly to suppress the warning\n",
      "  super()._check_params_vs_input(X, default_n_init=10)\n",
      "C:\\Users\\Muriate_C\\anaconda3\\lib\\site-packages\\sklearn\\cluster\\_kmeans.py:1416: FutureWarning: The default value of `n_init` will change from 10 to 'auto' in 1.4. Set the value of `n_init` explicitly to suppress the warning\n",
      "  super()._check_params_vs_input(X, default_n_init=10)\n",
      "C:\\Users\\Muriate_C\\anaconda3\\lib\\site-packages\\sklearn\\cluster\\_kmeans.py:1416: FutureWarning: The default value of `n_init` will change from 10 to 'auto' in 1.4. Set the value of `n_init` explicitly to suppress the warning\n",
      "  super()._check_params_vs_input(X, default_n_init=10)\n",
      "C:\\Users\\Muriate_C\\anaconda3\\lib\\site-packages\\sklearn\\cluster\\_kmeans.py:1416: FutureWarning: The default value of `n_init` will change from 10 to 'auto' in 1.4. Set the value of `n_init` explicitly to suppress the warning\n",
      "  super()._check_params_vs_input(X, default_n_init=10)\n",
      "C:\\Users\\Muriate_C\\anaconda3\\lib\\site-packages\\sklearn\\cluster\\_kmeans.py:1416: FutureWarning: The default value of `n_init` will change from 10 to 'auto' in 1.4. Set the value of `n_init` explicitly to suppress the warning\n",
      "  super()._check_params_vs_input(X, default_n_init=10)\n",
      "C:\\Users\\Muriate_C\\anaconda3\\lib\\site-packages\\sklearn\\cluster\\_kmeans.py:1416: FutureWarning: The default value of `n_init` will change from 10 to 'auto' in 1.4. Set the value of `n_init` explicitly to suppress the warning\n",
      "  super()._check_params_vs_input(X, default_n_init=10)\n",
      "C:\\Users\\Muriate_C\\anaconda3\\lib\\site-packages\\sklearn\\cluster\\_kmeans.py:1416: FutureWarning: The default value of `n_init` will change from 10 to 'auto' in 1.4. Set the value of `n_init` explicitly to suppress the warning\n",
      "  super()._check_params_vs_input(X, default_n_init=10)\n",
      "C:\\Users\\Muriate_C\\anaconda3\\lib\\site-packages\\sklearn\\cluster\\_kmeans.py:1416: FutureWarning: The default value of `n_init` will change from 10 to 'auto' in 1.4. Set the value of `n_init` explicitly to suppress the warning\n",
      "  super()._check_params_vs_input(X, default_n_init=10)\n",
      "C:\\Users\\Muriate_C\\anaconda3\\lib\\site-packages\\sklearn\\cluster\\_kmeans.py:1416: FutureWarning: The default value of `n_init` will change from 10 to 'auto' in 1.4. Set the value of `n_init` explicitly to suppress the warning\n",
      "  super()._check_params_vs_input(X, default_n_init=10)\n",
      "C:\\Users\\Muriate_C\\anaconda3\\lib\\site-packages\\sklearn\\cluster\\_kmeans.py:1416: FutureWarning: The default value of `n_init` will change from 10 to 'auto' in 1.4. Set the value of `n_init` explicitly to suppress the warning\n",
      "  super()._check_params_vs_input(X, default_n_init=10)\n",
      "C:\\Users\\Muriate_C\\anaconda3\\lib\\site-packages\\sklearn\\cluster\\_kmeans.py:1416: FutureWarning: The default value of `n_init` will change from 10 to 'auto' in 1.4. Set the value of `n_init` explicitly to suppress the warning\n",
      "  super()._check_params_vs_input(X, default_n_init=10)\n",
      "C:\\Users\\Muriate_C\\anaconda3\\lib\\site-packages\\sklearn\\cluster\\_kmeans.py:1416: FutureWarning: The default value of `n_init` will change from 10 to 'auto' in 1.4. Set the value of `n_init` explicitly to suppress the warning\n",
      "  super()._check_params_vs_input(X, default_n_init=10)\n",
      "C:\\Users\\Muriate_C\\anaconda3\\lib\\site-packages\\sklearn\\cluster\\_kmeans.py:1416: FutureWarning: The default value of `n_init` will change from 10 to 'auto' in 1.4. Set the value of `n_init` explicitly to suppress the warning\n",
      "  super()._check_params_vs_input(X, default_n_init=10)\n",
      "C:\\Users\\Muriate_C\\anaconda3\\lib\\site-packages\\sklearn\\cluster\\_kmeans.py:1416: FutureWarning: The default value of `n_init` will change from 10 to 'auto' in 1.4. Set the value of `n_init` explicitly to suppress the warning\n",
      "  super()._check_params_vs_input(X, default_n_init=10)\n",
      "C:\\Users\\Muriate_C\\anaconda3\\lib\\site-packages\\sklearn\\cluster\\_kmeans.py:1416: FutureWarning: The default value of `n_init` will change from 10 to 'auto' in 1.4. Set the value of `n_init` explicitly to suppress the warning\n",
      "  super()._check_params_vs_input(X, default_n_init=10)\n",
      "C:\\Users\\Muriate_C\\anaconda3\\lib\\site-packages\\sklearn\\cluster\\_kmeans.py:1416: FutureWarning: The default value of `n_init` will change from 10 to 'auto' in 1.4. Set the value of `n_init` explicitly to suppress the warning\n",
      "  super()._check_params_vs_input(X, default_n_init=10)\n",
      "C:\\Users\\Muriate_C\\anaconda3\\lib\\site-packages\\sklearn\\cluster\\_kmeans.py:1416: FutureWarning: The default value of `n_init` will change from 10 to 'auto' in 1.4. Set the value of `n_init` explicitly to suppress the warning\n",
      "  super()._check_params_vs_input(X, default_n_init=10)\n",
      "C:\\Users\\Muriate_C\\anaconda3\\lib\\site-packages\\sklearn\\cluster\\_kmeans.py:1416: FutureWarning: The default value of `n_init` will change from 10 to 'auto' in 1.4. Set the value of `n_init` explicitly to suppress the warning\n",
      "  super()._check_params_vs_input(X, default_n_init=10)\n",
      "C:\\Users\\Muriate_C\\anaconda3\\lib\\site-packages\\sklearn\\cluster\\_kmeans.py:1416: FutureWarning: The default value of `n_init` will change from 10 to 'auto' in 1.4. Set the value of `n_init` explicitly to suppress the warning\n",
      "  super()._check_params_vs_input(X, default_n_init=10)\n"
     ]
    },
    {
     "name": "stderr",
     "output_type": "stream",
     "text": [
      "C:\\Users\\Muriate_C\\anaconda3\\lib\\site-packages\\sklearn\\cluster\\_kmeans.py:1416: FutureWarning: The default value of `n_init` will change from 10 to 'auto' in 1.4. Set the value of `n_init` explicitly to suppress the warning\n",
      "  super()._check_params_vs_input(X, default_n_init=10)\n",
      "C:\\Users\\Muriate_C\\anaconda3\\lib\\site-packages\\sklearn\\cluster\\_kmeans.py:1416: FutureWarning: The default value of `n_init` will change from 10 to 'auto' in 1.4. Set the value of `n_init` explicitly to suppress the warning\n",
      "  super()._check_params_vs_input(X, default_n_init=10)\n",
      "C:\\Users\\Muriate_C\\anaconda3\\lib\\site-packages\\sklearn\\cluster\\_kmeans.py:1416: FutureWarning: The default value of `n_init` will change from 10 to 'auto' in 1.4. Set the value of `n_init` explicitly to suppress the warning\n",
      "  super()._check_params_vs_input(X, default_n_init=10)\n",
      "C:\\Users\\Muriate_C\\anaconda3\\lib\\site-packages\\sklearn\\cluster\\_kmeans.py:1416: FutureWarning: The default value of `n_init` will change from 10 to 'auto' in 1.4. Set the value of `n_init` explicitly to suppress the warning\n",
      "  super()._check_params_vs_input(X, default_n_init=10)\n",
      "C:\\Users\\Muriate_C\\anaconda3\\lib\\site-packages\\sklearn\\cluster\\_kmeans.py:1416: FutureWarning: The default value of `n_init` will change from 10 to 'auto' in 1.4. Set the value of `n_init` explicitly to suppress the warning\n",
      "  super()._check_params_vs_input(X, default_n_init=10)\n",
      "C:\\Users\\Muriate_C\\anaconda3\\lib\\site-packages\\sklearn\\cluster\\_kmeans.py:1416: FutureWarning: The default value of `n_init` will change from 10 to 'auto' in 1.4. Set the value of `n_init` explicitly to suppress the warning\n",
      "  super()._check_params_vs_input(X, default_n_init=10)\n",
      "C:\\Users\\Muriate_C\\anaconda3\\lib\\site-packages\\sklearn\\cluster\\_kmeans.py:1416: FutureWarning: The default value of `n_init` will change from 10 to 'auto' in 1.4. Set the value of `n_init` explicitly to suppress the warning\n",
      "  super()._check_params_vs_input(X, default_n_init=10)\n",
      "C:\\Users\\Muriate_C\\anaconda3\\lib\\site-packages\\sklearn\\cluster\\_kmeans.py:1416: FutureWarning: The default value of `n_init` will change from 10 to 'auto' in 1.4. Set the value of `n_init` explicitly to suppress the warning\n",
      "  super()._check_params_vs_input(X, default_n_init=10)\n",
      "C:\\Users\\Muriate_C\\anaconda3\\lib\\site-packages\\sklearn\\cluster\\_kmeans.py:1416: FutureWarning: The default value of `n_init` will change from 10 to 'auto' in 1.4. Set the value of `n_init` explicitly to suppress the warning\n",
      "  super()._check_params_vs_input(X, default_n_init=10)\n",
      "C:\\Users\\Muriate_C\\anaconda3\\lib\\site-packages\\sklearn\\cluster\\_kmeans.py:1416: FutureWarning: The default value of `n_init` will change from 10 to 'auto' in 1.4. Set the value of `n_init` explicitly to suppress the warning\n",
      "  super()._check_params_vs_input(X, default_n_init=10)\n",
      "C:\\Users\\Muriate_C\\anaconda3\\lib\\site-packages\\sklearn\\cluster\\_kmeans.py:1416: FutureWarning: The default value of `n_init` will change from 10 to 'auto' in 1.4. Set the value of `n_init` explicitly to suppress the warning\n",
      "  super()._check_params_vs_input(X, default_n_init=10)\n",
      "C:\\Users\\Muriate_C\\anaconda3\\lib\\site-packages\\sklearn\\cluster\\_kmeans.py:1416: FutureWarning: The default value of `n_init` will change from 10 to 'auto' in 1.4. Set the value of `n_init` explicitly to suppress the warning\n",
      "  super()._check_params_vs_input(X, default_n_init=10)\n",
      "C:\\Users\\Muriate_C\\anaconda3\\lib\\site-packages\\sklearn\\cluster\\_kmeans.py:1416: FutureWarning: The default value of `n_init` will change from 10 to 'auto' in 1.4. Set the value of `n_init` explicitly to suppress the warning\n",
      "  super()._check_params_vs_input(X, default_n_init=10)\n",
      "C:\\Users\\Muriate_C\\anaconda3\\lib\\site-packages\\sklearn\\cluster\\_kmeans.py:1416: FutureWarning: The default value of `n_init` will change from 10 to 'auto' in 1.4. Set the value of `n_init` explicitly to suppress the warning\n",
      "  super()._check_params_vs_input(X, default_n_init=10)\n",
      "C:\\Users\\Muriate_C\\anaconda3\\lib\\site-packages\\sklearn\\cluster\\_kmeans.py:1416: FutureWarning: The default value of `n_init` will change from 10 to 'auto' in 1.4. Set the value of `n_init` explicitly to suppress the warning\n",
      "  super()._check_params_vs_input(X, default_n_init=10)\n",
      "C:\\Users\\Muriate_C\\anaconda3\\lib\\site-packages\\sklearn\\cluster\\_kmeans.py:1416: FutureWarning: The default value of `n_init` will change from 10 to 'auto' in 1.4. Set the value of `n_init` explicitly to suppress the warning\n",
      "  super()._check_params_vs_input(X, default_n_init=10)\n",
      "C:\\Users\\Muriate_C\\anaconda3\\lib\\site-packages\\sklearn\\cluster\\_kmeans.py:1416: FutureWarning: The default value of `n_init` will change from 10 to 'auto' in 1.4. Set the value of `n_init` explicitly to suppress the warning\n",
      "  super()._check_params_vs_input(X, default_n_init=10)\n",
      "C:\\Users\\Muriate_C\\anaconda3\\lib\\site-packages\\sklearn\\cluster\\_kmeans.py:1416: FutureWarning: The default value of `n_init` will change from 10 to 'auto' in 1.4. Set the value of `n_init` explicitly to suppress the warning\n",
      "  super()._check_params_vs_input(X, default_n_init=10)\n",
      "C:\\Users\\Muriate_C\\anaconda3\\lib\\site-packages\\sklearn\\cluster\\_kmeans.py:1416: FutureWarning: The default value of `n_init` will change from 10 to 'auto' in 1.4. Set the value of `n_init` explicitly to suppress the warning\n",
      "  super()._check_params_vs_input(X, default_n_init=10)\n",
      "C:\\Users\\Muriate_C\\anaconda3\\lib\\site-packages\\sklearn\\cluster\\_kmeans.py:1416: FutureWarning: The default value of `n_init` will change from 10 to 'auto' in 1.4. Set the value of `n_init` explicitly to suppress the warning\n",
      "  super()._check_params_vs_input(X, default_n_init=10)\n"
     ]
    },
    {
     "data": {
      "text/plain": [
       "(array([[[0.1595, 0.1353, 0.154 , 0.1493, 0.1716],\n",
       "         [0.0863, 0.0863, 0.0863, 0.0863, 0.0863],\n",
       "         [0.1501, 0.1403, 0.1488, 0.1525, 0.1502],\n",
       "         [0.1651, 0.1666, 0.1657, 0.167 , 0.1643]],\n",
       " \n",
       "        [[0.114 , 0.1151, 0.1088, 0.1177, 0.1132],\n",
       "         [0.0724, 0.0724, 0.0724, 0.0724, 0.0724],\n",
       "         [0.1095, 0.1072, 0.1176, 0.1079, 0.111 ],\n",
       "         [0.1251, 0.125 , 0.1291, 0.1265, 0.1255]],\n",
       " \n",
       "        [[0.0884, 0.0901, 0.0882, 0.0927, 0.0879],\n",
       "         [0.0643, 0.0643, 0.0643, 0.0643, 0.0643],\n",
       "         [0.0874, 0.083 , 0.0888, 0.0855, 0.087 ],\n",
       "         [0.093 , 0.091 , 0.0893, 0.0947, 0.0919]],\n",
       " \n",
       "        [[0.0669, 0.0672, 0.0672, 0.0717, 0.0643],\n",
       "         [0.0509, 0.0509, 0.0509, 0.0509, 0.0509],\n",
       "         [0.0671, 0.0658, 0.0613, 0.0652, 0.0659],\n",
       "         [0.0679, 0.0679, 0.0679, 0.0653, 0.0661]],\n",
       " \n",
       "        [[0.053 , 0.0507, 0.0536, 0.0511, 0.0532],\n",
       "         [0.0443, 0.0443, 0.0443, 0.0443, 0.0443],\n",
       "         [0.051 , 0.0486, 0.0508, 0.0524, 0.0519],\n",
       "         [0.0531, 0.0535, 0.0529, 0.0543, 0.0543]]]),\n",
       " array([[[0.00000000e+00, 0.00000000e+00, 0.00000000e+00, 0.00000000e+00,\n",
       "          0.00000000e+00],\n",
       "         [1.49568158e+02, 1.49568158e+02, 1.49568158e+02, 1.49568158e+02,\n",
       "          1.49568158e+02],\n",
       "         [9.84465387e+01, 9.58840122e+01, 9.85879667e+01, 9.72176626e+01,\n",
       "          9.87736208e+01],\n",
       "         [4.00118589e-01, 3.89531374e-01, 3.90973330e-01, 3.93839836e-01,\n",
       "          3.73049021e-01]],\n",
       " \n",
       "        [[0.00000000e+00, 0.00000000e+00, 0.00000000e+00, 0.00000000e+00,\n",
       "          0.00000000e+00],\n",
       "         [2.52976594e+02, 2.52976594e+02, 2.52976594e+02, 2.52976594e+02,\n",
       "          2.52976594e+02],\n",
       "         [1.94923532e+02, 1.94668358e+02, 1.93053214e+02, 1.94709305e+02,\n",
       "          1.90706522e+02],\n",
       "         [2.10729861e+00, 2.12962198e+00, 2.04612803e+00, 2.04278135e+00,\n",
       "          2.16285777e+00]],\n",
       " \n",
       "        [[0.00000000e+00, 0.00000000e+00, 0.00000000e+00, 9.96351242e-04,\n",
       "          0.00000000e+00],\n",
       "         [4.85420623e+02, 4.85420623e+02, 4.85420623e+02, 4.85420623e+02,\n",
       "          4.85420623e+02],\n",
       "         [3.98425337e+02, 3.86370548e+02, 3.88769968e+02, 3.94434407e+02,\n",
       "          4.03437743e+02],\n",
       "         [9.12429881e+00, 8.99283957e+00, 9.21124816e+00, 9.00453734e+00,\n",
       "          9.30293179e+00]],\n",
       " \n",
       "        [[0.00000000e+00, 0.00000000e+00, 0.00000000e+00, 0.00000000e+00,\n",
       "          0.00000000e+00],\n",
       "         [1.15862122e+03, 1.15862122e+03, 1.15862122e+03, 1.15862122e+03,\n",
       "          1.15862122e+03],\n",
       "         [9.65623256e+02, 9.79300241e+02, 9.76724473e+02, 1.07888907e+03,\n",
       "          1.05476904e+03],\n",
       "         [5.98680768e+01, 5.97225313e+01, 7.30526173e+01, 7.29067552e+01,\n",
       "          6.73294458e+01]],\n",
       " \n",
       "        [[0.00000000e+00, 1.00708008e-03, 0.00000000e+00, 0.00000000e+00,\n",
       "          0.00000000e+00],\n",
       "         [2.37312594e+03, 2.37312594e+03, 2.37312594e+03, 2.37312594e+03,\n",
       "          2.37312594e+03],\n",
       "         [1.91955345e+03, 1.88537108e+03, 1.88745291e+03, 1.92980054e+03,\n",
       "          1.90337809e+03],\n",
       "         [2.27773771e+02, 2.30125160e+02, 2.32975694e+02, 2.28782780e+02,\n",
       "          2.26497759e+02]]]))"
      ]
     },
     "execution_count": 9,
     "metadata": {},
     "output_type": "execute_result"
    }
   ],
   "source": [
    "run()"
   ]
  },
  {
   "cell_type": "code",
   "execution_count": 12,
   "metadata": {},
   "outputs": [
    {
     "data": {
      "text/plain": [
       "(array([[0.15394, 0.0863 , 0.14838, 0.16574],\n",
       "        [0.11376, 0.0724 , 0.11064, 0.12624],\n",
       "        [0.08946, 0.0643 , 0.08634, 0.09198],\n",
       "        [0.06746, 0.0509 , 0.06506, 0.06702],\n",
       "        [0.05232, 0.0443 , 0.05094, 0.05362]]),\n",
       " array([[0.00000000e+00, 1.49568158e+02, 9.77819602e+01, 3.89502430e-01],\n",
       "        [0.00000000e+00, 2.52976594e+02, 1.93612186e+02, 2.09773755e+00],\n",
       "        [1.99270248e-04, 4.85420623e+02, 3.94287601e+02, 9.12717113e+00],\n",
       "        [0.00000000e+00, 1.15862122e+03, 1.01106121e+03, 6.65758853e+01],\n",
       "        [2.01416016e-04, 2.37312594e+03, 1.90511121e+03, 2.29231033e+02]]))"
      ]
     },
     "execution_count": 12,
     "metadata": {},
     "output_type": "execute_result"
    }
   ],
   "source": [
    "err = np.load('error.npy')\n",
    "runtime = np.load('runtime.npy')\n",
    "err_avg, runtime_avg = np.mean(err, axis=2), np.mean(runtime, axis=2)\n",
    "err_avg, runtime_avg"
   ]
  },
  {
   "cell_type": "code",
   "execution_count": 20,
   "metadata": {},
   "outputs": [
    {
     "data": {
      "text/plain": [
       "(array([0.15394, 0.11376, 0.08946, 0.06746, 0.05232]),\n",
       " array([0.0863, 0.0724, 0.0643, 0.0509, 0.0443]),\n",
       " array([0.14838, 0.11064, 0.08634, 0.06506, 0.05094]),\n",
       " array([0.16574, 0.12624, 0.09198, 0.06702, 0.05362]))"
      ]
     },
     "execution_count": 20,
     "metadata": {},
     "output_type": "execute_result"
    }
   ],
   "source": [
    "M = [500, 1000, 2000, 5000, 10000]\n",
    "err_b = np.take(err_avg, 0, axis=1)\n",
    "err_k = np.take(err_avg, 1, axis=1)\n",
    "err_e = np.take(err_avg, 2, axis=1)\n",
    "err_c = np.take(err_avg, 3, axis=1)\n",
    "err_b, err_k, err_e, err_c"
   ]
  },
  {
   "cell_type": "code",
   "execution_count": 25,
   "metadata": {},
   "outputs": [
    {
     "data": {
      "text/plain": [
       "Text(0, 0.5, 'Avg Error Rate')"
      ]
     },
     "execution_count": 25,
     "metadata": {},
     "output_type": "execute_result"
    },
    {
     "data": {
      "image/png": "[encoded data removed]",
      "text/plain": [
       "<Figure size 432x288 with 1 Axes>"
      ]
     },
     "metadata": {
      "needs_background": "light"
     },
     "output_type": "display_data"
    }
   ],
   "source": [
    "plt.title('Average Error Rate at Different M')\n",
    "plt.plot(M, err_b, label='baseline')\n",
    "plt.plot(M, err_k, label='k-Means')\n",
    "plt.plot(M, err_e, label='ENN')\n",
    "plt.plot(M, err_c, label='CNN')\n",
    "plt.legend()\n",
    "plt.xlabel('M')\n",
    "plt.ylabel('Avg Error Rate')"
   ]
  },
  {
   "cell_type": "code",
   "execution_count": 26,
   "metadata": {},
   "outputs": [
    {
     "data": {
      "text/plain": [
       "(array([0.        , 0.        , 0.00019927, 0.        , 0.00020142]),\n",
       " array([ 149.56815791,  252.97659421,  485.4206233 , 1158.62122011,\n",
       "        2373.12593985]),\n",
       " array([  97.7819602 ,  193.61218629,  394.28760066, 1011.06121492,\n",
       "        1905.11121449]),\n",
       " array([  0.38950243,   2.09773755,   9.12717113,  66.5758853 ,\n",
       "        229.2310329 ]))"
      ]
     },
     "execution_count": 26,
     "metadata": {},
     "output_type": "execute_result"
    }
   ],
   "source": [
    "rt_b = np.take(runtime_avg, 0, axis=1)\n",
    "rt_k = np.take(runtime_avg, 1, axis=1)\n",
    "rt_e = np.take(runtime_avg, 2, axis=1)\n",
    "rt_c = np.take(runtime_avg, 3, axis=1)\n",
    "rt_b, rt_k, rt_e, rt_c"
   ]
  },
  {
   "cell_type": "code",
   "execution_count": 29,
   "metadata": {},
   "outputs": [
    {
     "data": {
      "text/plain": [
       "Text(0, 0.5, 'Avg Runtime (s)')"
      ]
     },
     "execution_count": 29,
     "metadata": {},
     "output_type": "execute_result"
    },
    {
     "data": {
      "image/png": "[encoded data removed]",
      "text/plain": [
       "<Figure size 432x288 with 1 Axes>"
      ]
     },
     "metadata": {
      "needs_background": "light"
     },
     "output_type": "display_data"
    }
   ],
   "source": [
    "plt.title('Average Runtime at Different M')\n",
    "plt.plot(M, rt_b, label='baseline')\n",
    "plt.plot(M, rt_k, label='k-Means')\n",
    "plt.plot(M, rt_e, label='ENN')\n",
    "plt.plot(M, rt_c, label='CNN')\n",
    "plt.legend()\n",
    "plt.xlabel('M')\n",
    "plt.ylabel('Avg Runtime (s)')"
   ]
  },
  {
   "cell_type": "code",
   "execution_count": 38,
   "metadata": {},
   "outputs": [
    {
     "data": {
      "text/plain": [
       "(array([[0.13912541, 0.0863    , 0.14315001, 0.1645219 ],\n",
       "        [0.11014883, 0.0724    , 0.10602034, 0.12434615],\n",
       "        [0.08723524, 0.0643    , 0.08388967, 0.0897184 ],\n",
       "        [0.06450015, 0.0509    , 0.06260339, 0.06564539],\n",
       "        [0.0508521 , 0.0443    , 0.04931612, 0.05289005]]),\n",
       " array([[0.16875459, 0.0863    , 0.15360999, 0.1669581 ],\n",
       "        [0.11737117, 0.0724    , 0.11525966, 0.12813385],\n",
       "        [0.09168476, 0.0643    , 0.08879033, 0.0942416 ],\n",
       "        [0.07041985, 0.0509    , 0.06751661, 0.06839461],\n",
       "        [0.0537879 , 0.0443    , 0.05256388, 0.05434995]]))"
      ]
     },
     "execution_count": 38,
     "metadata": {},
     "output_type": "execute_result"
    }
   ],
   "source": [
    "df = 5 - 1\n",
    "t_value = t.ppf((1+0.95)/2, df)\n",
    "np.std(err, axis=2)\n",
    "err_avg-t_value/math.sqrt(5)*np.std(err, axis=2), err_avg+t_value/math.sqrt(5)*np.std(err, axis=2)"
   ]
  }
 ],
 "metadata": {
  "colab": {
   "provenance": []
  },
  "kernelspec": {
   "display_name": "Python 3",
   "language": "python",
   "name": "python3"
  },
  "language_info": {
   "codemirror_mode": {
    "name": "ipython",
    "version": 3
   },
   "file_extension": ".py",
   "mimetype": "text/x-python",
   "name": "python",
   "nbconvert_exporter": "python",
   "pygments_lexer": "ipython3",
   "version": "3.8.5"
  }
 },
 "nbformat": 4,
 "nbformat_minor": 1
}
